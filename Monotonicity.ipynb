{
 "cells": [
  {
   "cell_type": "markdown",
   "metadata": {},
   "source": [
    "### Adverse Actionable Machine Learning\n",
    "\n",
    "This notebook demonstrates how data can be processed for training with `xgboost` to enforce certain relationships between the independent variable and the target. "
   ]
  },
  {
   "cell_type": "code",
   "execution_count": 1,
   "metadata": {},
   "outputs": [],
   "source": [
    "import xgboost as xgb\n",
    "import numpy as np\n",
    "import matplotlib.pyplot as plt\n",
    "import pandas as pd\n",
    "import seaborn as sns"
   ]
  },
  {
   "cell_type": "markdown",
   "metadata": {},
   "source": [
    "### Dummy Data\n",
    "\n",
    "For this notebook we will be using a contrived variable that has a carefully engineered relationship with the target variable. The dummy data also consists of values we might encounter in the real world such as missing data and exception values."
   ]
  },
  {
   "cell_type": "code",
   "execution_count": 2,
   "metadata": {},
   "outputs": [],
   "source": [
    "# create a dummy dataset with the desired properties\n",
    "N = 10_000\n",
    "vals = [np.nan, -99, 999, *list(range(0, 20))]\n",
    "prob = [0.20, 0.10, 0.30, *np.repeat(0.4/20, 20)]\n",
    "x = np.random.choice(vals, N, p=prob)"
   ]
  },
  {
   "cell_type": "code",
   "execution_count": 3,
   "metadata": {},
   "outputs": [
    {
     "data": {
      "text/plain": [
       "-999.0    1998\n-99.0      985\n 0.0       190\n 1.0       192\n 2.0       185\n 3.0       214\n 4.0       209\n 5.0       184\n 6.0       205\n 7.0       189\n 8.0       219\n 9.0       184\n 10.0      202\n 11.0      193\n 12.0      178\n 13.0      193\n 14.0      183\n 15.0      202\n 16.0      196\n 17.0      200\n 18.0      203\n 19.0      215\n 999.0    3081\ndtype: int64"
      ]
     },
     "execution_count": 3,
     "metadata": {},
     "output_type": "execute_result"
    }
   ],
   "source": [
    "pd.Series(x).fillna(-999).value_counts().sort_index()"
   ]
  },
  {
   "cell_type": "markdown",
   "metadata": {},
   "source": [
    "### Create Binary Target\n",
    "\n",
    "The dummy data will include a binary dependent variable with probability based on the value of the independent variable to create a relationship between the two."
   ]
  },
  {
   "cell_type": "code",
   "execution_count": 4,
   "metadata": {},
   "outputs": [],
   "source": [
    "# probabilities in same order as x-values\n",
    "yprob = [0.01, 0.50, 0.05,\n",
    "         *np.arange(0.10, 0.30, 0.04), # increase 0 to 4\n",
    "         *np.arange(0.10, 0.30, 0.04), # increase 5 to 10\n",
    "         *np.arange(0.30, 0.10, -0.02)] # decrease 11 to 19\n",
    "\n",
    "# get the sorted indices for the next step\n",
    "i = np.argsort(vals)\n",
    "\n",
    "# find the indices of x in the sorted values of x\n",
    "index = np.searchsorted(np.array(vals)[i], x, side='left')\n",
    "\n",
    "# use the indices to pair with the desired probability and randomly draw [0,1]\n",
    "y = np.random.binomial(1, np.array(yprob)[i[index]])"
   ]
  },
  {
   "cell_type": "code",
   "execution_count": 5,
   "metadata": {},
   "outputs": [
    {
     "data": {
      "image/png": "[encoded data removed]",
      "text/plain": [
       "<Figure size 432x288 with 1 Axes>"
      ]
     },
     "metadata": {},
     "output_type": "display_data"
    }
   ],
   "source": [
    "df = pd.DataFrame({\"x\": x, \"y\": y})\n",
    "z = df.fillna(-999).groupby(\"x\").mean()\n",
    "plt = z.plot(kind=\"bar\")"
   ]
  },
  {
   "cell_type": "markdown",
   "metadata": {},
   "source": [
    "### Train Model\n",
    "\n",
    "The first model fit will not use any constraints at all."
   ]
  },
  {
   "cell_type": "code",
   "execution_count": 6,
   "metadata": {},
   "outputs": [],
   "source": [
    "dtrain = xgb.DMatrix(x.reshape(-1, 1), label=y.reshape(-1, 1))\n",
    "param = {\n",
    "    \"max_depth\": 5,\n",
    "    \"eta\":1,\n",
    "    \"silent\":1,\n",
    "    \"objective\":\"binary:logistic\"\n",
    "}"
   ]
  },
  {
   "cell_type": "code",
   "execution_count": 7,
   "metadata": {},
   "outputs": [],
   "source": [
    "bst = xgb.train(param, dtrain, num_boost_round=100)\n",
    "yhat = bst.predict(dtrain)\n",
    "preds = pd.DataFrame({'x': x, 'yhat': yhat})"
   ]
  },
  {
   "cell_type": "code",
   "execution_count": 8,
   "metadata": {},
   "outputs": [
    {
     "data": {
      "image/png": "[encoded data removed]",
      "text/plain": [
       "<Figure size 432x288 with 1 Axes>"
      ]
     },
     "metadata": {},
     "output_type": "display_data"
    }
   ],
   "source": [
    "plt = preds.fillna(-999).groupby('x').mean().plot(kind='bar')"
   ]
  },
  {
   "cell_type": "markdown",
   "metadata": {},
   "source": [
    "### Enforce Constraints\n",
    "\n",
    "Regulations and repulational risk considerations demand that we treat certain levels of this variable in a special manner. Guidelines and experience recommend the following treatments:\n",
    "\n",
    "| Value | Treatment |\n",
    "|-------|-----------|\n",
    "| Missing | Least points |\n",
    "|-99 | Most Points |\n",
    "|999 | Less than 0 to 20  |\n",
    "|0 to 20 | Increasing Monotonicity |"
   ]
  },
  {
   "cell_type": "code",
   "execution_count": 9,
   "metadata": {},
   "outputs": [
    {
     "data": {
      "text/plain": [
       "<matplotlib.axes._subplots.AxesSubplot at 0x28385f40710>"
      ]
     },
     "execution_count": 9,
     "metadata": {},
     "output_type": "execute_result"
    },
    {
     "data": {
      "image/png": "[encoded data removed]",
      "text/plain": [
       "<Figure size 432x288 with 1 Axes>"
      ]
     },
     "metadata": {},
     "output_type": "display_data"
    }
   ],
   "source": [
    "x_new = x.copy()\n",
    "\n",
    "x_new[np.isnan(x)] = -2\n",
    "x_new[x == 999] = -1\n",
    "x_new[x == -99] = 22\n",
    "\n",
    "sns.scatterplot(x, x_new)"
   ]
  },
  {
   "cell_type": "code",
   "execution_count": 10,
   "metadata": {},
   "outputs": [],
   "source": [
    "dtrain = xgb.DMatrix(x_new.reshape(-1, 1), label=y.reshape(-1, 1))\n",
    "param = {\n",
    "    \"max_depth\": 5,\n",
    "    \"eta\": 1,\n",
    "    \"silent\": 1,\n",
    "    \"objective\":\"binary:logistic\",\n",
    "    \"monotone_constraints\": \"(1)\"    \n",
    "}"
   ]
  },
  {
   "cell_type": "code",
   "execution_count": 11,
   "metadata": {},
   "outputs": [],
   "source": [
    "bst2 = xgb.train(param, dtrain, num_boost_round=100)\n",
    "yhat = bst2.predict(dtrain)\n",
    "preds = pd.DataFrame({'x': x, 'yhat': yhat})"
   ]
  },
  {
   "cell_type": "code",
   "execution_count": 12,
   "metadata": {},
   "outputs": [
    {
     "data": {
      "image/png": "[encoded data removed]",
      "text/plain": [
       "<Figure size 432x288 with 1 Axes>"
      ]
     },
     "metadata": {},
     "output_type": "display_data"
    }
   ],
   "source": [
    "plt = preds.fillna(-999).groupby('x').mean().plot(kind='bar')"
   ]
  },
  {
   "cell_type": "markdown",
   "metadata": {},
   "source": [
    "### More Complicated Constraints\n",
    "\n",
    "Regulations and repulational risk considerations demand that we treat certain levels of this variable in a special manner. Guidelines and experience recommend the following treatments:\n",
    "\n",
    "| Value | Treatment |\n",
    "|-------|-----------|\n",
    "| Missing | Least points |\n",
    "|-99 | Most Points |\n",
    "|999 | Less than 0 to 20  |\n",
    "|0 to 10 | Increasing Monotonicity |\n",
    "|11 to 20 | Decreasing Monotonicity |\n"
   ]
  },
  {
   "cell_type": "code",
   "execution_count": 13,
   "metadata": {},
   "outputs": [],
   "source": [
    "x_inc1 = x.copy()\n",
    "\n",
    "x_inc1[np.isnan(x)] = -3\n",
    "x_inc1[x == 999] = -2\n",
    "x_inc1[x == -99] = 12\n",
    "x_inc1[x_inc1 > 10] = -1\n",
    "\n",
    "x_inc2 = x_inc1.copy()\n",
    "x_inc2[x_inc1 == -1] = 11\n",
    "\n",
    "data = np.hstack([x_inc1.reshape(-1,1), x_inc2.reshape(-1,1)])\n",
    "dtrain = xgb.DMatrix(data, label=y.reshape(-1, 1))\n",
    "param = {\n",
    "    \"max_depth\": 5,\n",
    "    \"eta\": 1,\n",
    "    \"silent\": 1,\n",
    "    \"objective\":\"binary:logistic\",\n",
    "    \"monotone_constraints\": \"(1, 1)\"\n",
    "}"
   ]
  },
  {
   "cell_type": "code",
   "execution_count": 14,
   "metadata": {},
   "outputs": [],
   "source": [
    "bst3 = xgb.train(param, dtrain, num_boost_round=100)\n",
    "yhat = bst3.predict(dtrain)\n",
    "preds = pd.DataFrame({'x': x, 'yhat': yhat})"
   ]
  },
  {
   "cell_type": "code",
   "execution_count": 15,
   "metadata": {},
   "outputs": [
    {
     "data": {
      "image/png": "[encoded data removed]",
      "text/plain": [
       "<Figure size 432x288 with 1 Axes>"
      ]
     },
     "metadata": {},
     "output_type": "display_data"
    }
   ],
   "source": [
    "plt = preds.fillna(-999).groupby('x').mean().plot(kind='bar')"
   ]
  },
  {
   "cell_type": "code",
   "execution_count": 16,
   "metadata": {},
   "outputs": [],
   "source": [
    "## repeat for decreasing mono\n",
    "x_dec1 = x.copy()\n",
    "\n",
    "x_dec1[np.isnan(x)] = 22\n",
    "x_dec1[x == 999] = 21\n",
    "x_dec1[x == -99] = -2\n",
    "x_dec1[(x_dec1 >= 0) & (x_dec1 <= 10)] = -1\n",
    "\n",
    "x_dec2 = x_dec1.copy()\n",
    "x_dec2[x_dec2 == -1] = 20"
   ]
  },
  {
   "cell_type": "code",
   "execution_count": 17,
   "metadata": {},
   "outputs": [],
   "source": [
    "data = np.hstack([\n",
    "    x_inc1.reshape(-1,1), x_inc2.reshape(-1,1),\n",
    "    x_dec1.reshape(-1,1), x_dec2.reshape(-1,1),\n",
    "])\n",
    "\n",
    "dtrain = xgb.DMatrix(data, label=y.reshape(-1, 1))\n",
    "param = {\n",
    "    \"max_depth\": 5,\n",
    "    \"eta\": 1,\n",
    "    \"silent\": 1,\n",
    "    \"objective\": \"binary:logistic\",\n",
    "    \"monotone_constraints\": \"(1, 1, -1, -1)\"\n",
    "}\n",
    "\n",
    "bst4 = xgb.train(param, dtrain, num_boost_round=100)\n",
    "yhat = bst4.predict(dtrain)\n",
    "preds = pd.DataFrame({'x': x, 'yhat': yhat})"
   ]
  },
  {
   "cell_type": "code",
   "execution_count": 18,
   "metadata": {},
   "outputs": [
    {
     "data": {
      "image/png": "[encoded data removed]",
      "text/plain": [
       "<Figure size 432x288 with 1 Axes>"
      ]
     },
     "metadata": {},
     "output_type": "display_data"
    }
   ],
   "source": [
    "plt = preds.fillna(-999).groupby('x').mean().plot(kind='bar')"
   ]
  },
  {
   "cell_type": "markdown",
   "metadata": {},
   "source": [
    "### Even More Complicated Constraints\n",
    "\n",
    "Regulations and repulational risk considerations demand that we treat certain levels of this variable in a special manner. Guidelines and experience recommend the following treatments:\n",
    "\n",
    "| Value | Treatment |\n",
    "|-------|-----------|\n",
    "| Missing | Least points |\n",
    "|-99 | Most Points |\n",
    "|999 | Less than 0 to 20  |\n",
    "|0 to 5 | Increasing Monotonicity |\n",
    "|6 to 10 | Increasing Monotonicity |\n",
    "|11 to 20 | Decreasing Monotonicity |\n"
   ]
  },
  {
   "cell_type": "markdown",
   "metadata": {},
   "source": [
    "Notes: Each interval must place *other* intervals prior and subsequent to it's range for monotonic constraints. \n",
    "\n",
    "Need to investigate whether ALL other intervals can be collapsed into one value to effect this behavior."
   ]
  },
  {
   "cell_type": "markdown",
   "metadata": {},
   "source": [
    "### Steps needed to output variable specification\n",
    "\n",
    "1. All levels must have a priority order\n",
    "2. Intervals output 2 columns\n",
    "3. Each interval must be considered in turn\n",
    "4. Other intervals must be slotted appropriately based on relationship to current interval"
   ]
  },
  {
   "cell_type": "code",
   "execution_count": 19,
   "metadata": {},
   "outputs": [],
   "source": [
    "from constraints import *\n",
    "\n",
    "tf = Constrainer([\n",
    "    Missing(0),\n",
    "    Value(-99, 3),\n",
    "    Value(999, 1),\n",
    "    Interval(0, 5, False, False, 1, 2),\n",
    "    Interval(6, 10, False, False, 1, 2),\n",
    "    Interval(11, 20, False, False, -1, 2)\n",
    "])"
   ]
  },
  {
   "cell_type": "code",
   "execution_count": 20,
   "metadata": {},
   "outputs": [
    {
     "name": "stdout",
     "output_type": "stream",
     "text": [
      "    0 | Missing:             => -3\n    3 | Value: -99           => 7\n    1 | Value: 999           => -2\n    2 | [0, 5]               => None\n    2 | [6, 10]              => -1\n    2 | [11, 20]             => -1\n    0 | Missing:             => -3\n    3 | Value: -99           => 7\n    1 | Value: 999           => -2\n    2 | [0, 5]               => None\n    2 | [6, 10]              => 6\n    2 | [11, 20]             => 6\n    0 | Missing:             => 3\n    3 | Value: -99           => 12\n    1 | Value: 999           => 4\n    2 | [0, 5]               => 5\n    2 | [6, 10]              => None\n    2 | [11, 20]             => 5\n    0 | Missing:             => 3\n    3 | Value: -99           => 12\n    1 | Value: 999           => 4\n    2 | [0, 5]               => 11\n    2 | [6, 10]              => None\n    2 | [11, 20]             => 11\n    0 | Missing:             => 23\n    3 | Value: -99           => 9\n    1 | Value: 999           => 22\n    2 | [0, 5]               => 10\n    2 | [6, 10]              => 10\n    2 | [11, 20]             => None\n    0 | Missing:             => 23\n    3 | Value: -99           => 9\n    1 | Value: 999           => 22\n    2 | [0, 5]               => 21\n    2 | [6, 10]              => 21\n    2 | [11, 20]             => None\n"
     ]
    },
    {
     "data": {
      "text/plain": [
       "(10000, 6)"
      ]
     },
     "execution_count": 20,
     "metadata": {},
     "output_type": "execute_result"
    }
   ],
   "source": [
    "x_new = tf.fit_transform(x.reshape(-1, 1))\n",
    "x_new.shape"
   ]
  },
  {
   "cell_type": "code",
   "execution_count": 28,
   "metadata": {},
   "outputs": [],
   "source": [
    "dtrain = xgb.DMatrix(x_new, label=y.reshape(-1, 1))\n",
    "\n",
    "param = {\n",
    "    \"max_depth\": 5,\n",
    "    \"eta\": 1,\n",
    "    \"silent\": 1,\n",
    "    \"objective\": \"binary:logistic\",\n",
    "    \"monotone_constraints\": \"(1, 1, 1, 1, -1, -1)\"\n",
    "}\n",
    "\n",
    "bst5 = xgb.train(param, dtrain, num_boost_round=100)\n",
    "yhat = bst5.predict(dtrain)\n",
    "preds = pd.DataFrame({'x': x, 'yhat': yhat})"
   ]
  },
  {
   "cell_type": "code",
   "execution_count": 29,
   "metadata": {},
   "outputs": [
    {
     "data": {
      "image/png": "[encoded data removed]",
      "text/plain": [
       "<Figure size 432x288 with 1 Axes>"
      ]
     },
     "metadata": {},
     "output_type": "display_data"
    }
   ],
   "source": [
    "plt = preds.fillna(-999).groupby('x').mean().plot(kind='bar')"
   ]
  },
  {
   "cell_type": "code",
   "execution_count": 68,
   "metadata": {},
   "outputs": [],
   "source": [
    "## mono between 0 and 5\n",
    "x_inc1 = x.copy()\n",
    "\n",
    "x_inc1[np.isnan(x)] = -3\n",
    "x_inc1[x == 999] = -2\n",
    "x_inc1[x_inc1 > 5] = -1\n",
    "x_inc1[x == -99] = 7\n",
    "\n",
    "\n",
    "x_inc2 = x_inc1.copy()\n",
    "x_inc2[x_inc1 == -1] = 6\n",
    "\n",
    "## mono between 6 and 10\n",
    "x_inc3 = x.copy()\n",
    "\n",
    "x_inc3[np.isnan(x)] = -3\n",
    "x_inc3[~((x_inc3 > 5) & (x_inc3 <= 10))] = -1\n",
    "x_inc3[x == 999] = -2\n",
    "x_inc3[x == -99] = 12\n",
    "\n",
    "\n",
    "x_inc4 = x.copy()\n",
    "x_inc4[x_inc3 == -1] = 11\n",
    "\n",
    "## mono between 11 and 20\n",
    "x_dec1 = x.copy()\n",
    "\n",
    "x_dec1[np.isnan(x)] = 22\n",
    "x_dec1[x == 999] = 21\n",
    "x_dec1[x == -99] = -2\n",
    "x_dec1[(x_dec1 >= 0) & (x_dec1 <= 10)] = -1\n",
    "\n",
    "x_dec2 = x_dec1.copy()\n",
    "x_dec2[x_dec2 == -1] = 20\n",
    "\n",
    "data = np.hstack([\n",
    "    x_inc1.reshape(-1,1), x_inc2.reshape(-1,1),\n",
    "    x_inc3.reshape(-1,1), x_inc4.reshape(-1,1),\n",
    "    x_dec1.reshape(-1,1), x_dec2.reshape(-1,1)\n",
    "])\n",
    "\n",
    "\n",
    "dtrain = xgb.DMatrix(data, label=y.reshape(-1, 1))\n",
    "\n",
    "param = {\n",
    "    \"max_depth\": 5,\n",
    "    \"eta\": 1,\n",
    "    \"silent\": 1,\n",
    "    \"objective\": \"binary:logistic\",\n",
    "    \"monotone_constraints\": \"(1, 1, 1, 1, -1, -1)\"\n",
    "}\n",
    "\n",
    "bst5 = xgb.train(param, dtrain, num_boost_round=100)\n",
    "yhat = bst5.predict(dtrain)\n",
    "preds = pd.DataFrame({'x': x, 'yhat': yhat})"
   ]
  },
  {
   "cell_type": "code",
   "execution_count": 63,
   "metadata": {},
   "outputs": [
    {
     "data": {
      "image/png": "[encoded data removed]",
      "text/plain": [
       "<Figure size 432x288 with 1 Axes>"
      ]
     },
     "metadata": {},
     "output_type": "display_data"
    },
    {
     "data": {
      "image/png": "[encoded data removed]",
      "text/plain": [
       "<Figure size 432x288 with 1 Axes>"
      ]
     },
     "metadata": {},
     "output_type": "display_data"
    },
    {
     "data": {
      "image/png": "[encoded data removed]",
      "text/plain": [
       "<Figure size 432x288 with 1 Axes>"
      ]
     },
     "metadata": {},
     "output_type": "display_data"
    },
    {
     "data": {
      "image/png": "[encoded data removed]",
      "text/plain": [
       "<Figure size 432x288 with 1 Axes>"
      ]
     },
     "metadata": {},
     "output_type": "display_data"
    },
    {
     "data": {
      "image/png": "[encoded data removed]",
      "text/plain": [
       "<Figure size 432x288 with 1 Axes>"
      ]
     },
     "metadata": {},
     "output_type": "display_data"
    },
    {
     "data": {
      "image/png": "[encoded data removed]",
      "text/plain": [
       "<Figure size 432x288 with 1 Axes>"
      ]
     },
     "metadata": {},
     "output_type": "display_data"
    }
   ],
   "source": [
    "import matplotlib.pyplot as plt\n",
    "x_new, data\n",
    "\n",
    "for i in range(x_new.shape[1]):\n",
    "    plt.figure(i)\n",
    "    sns.scatterplot(x_new[:,i], data[:,i])    \n",
    "    # plt.clf()"
   ]
  },
  {
   "cell_type": "code",
   "execution_count": 47,
   "metadata": {},
   "outputs": [
    {
     "data": {
      "image/png": "[encoded data removed]",
      "text/plain": [
       "<Figure size 432x288 with 1 Axes>"
      ]
     },
     "metadata": {},
     "output_type": "display_data"
    }
   ],
   "source": [
    "plt = preds.fillna(-999).groupby('x').mean().plot(kind='bar')"
   ]
  },
  {
   "cell_type": "markdown",
   "metadata": {},
   "source": [
    "### Check Results\n",
    "\n",
    "Here we can programatically test whether the requested conditions are satisfied by checking the mean predictions for each value of `x`."
   ]
  },
  {
   "cell_type": "code",
   "execution_count": 71,
   "metadata": {},
   "outputs": [
    {
     "data": {
      "text/plain": [
       "Conditions(cond1=True, cond2=True, cond3=True, cond4=True, cond5=True, cond6=True)"
      ]
     },
     "execution_count": 71,
     "metadata": {},
     "output_type": "execute_result"
    }
   ],
   "source": [
    "from collections import namedtuple\n",
    "\n",
    "res = preds.fillna(-999).groupby('x').mean()\n",
    "\n",
    "conds = namedtuple(\"Conditions\", \" \".join([f\"cond{i}\" for i in range(1,7)]))\n",
    "\n",
    "# verify all conditions are met:\n",
    "conds(\n",
    "    np.all(res.yhat.loc[range(0,20)] > res.yhat.loc[999]),\n",
    "    np.all(res.yhat.loc[range(0,20)] < res.yhat.loc[-99]),\n",
    "    np.all(res.yhat >= res.yhat.loc[-999]),\n",
    "    np.all(\n",
    "        res.yhat.loc[range(0,6)][1:].reset_index(drop=True) >=\n",
    "        res.yhat.loc[range(0,6)][:-1].reset_index(drop=True)),\n",
    "    np.all(\n",
    "        res.yhat.loc[range(6,11)][1:].reset_index(drop=True) >=\n",
    "        res.yhat.loc[range(6,11)][:-1].reset_index(drop=True)),\n",
    "    np.all(\n",
    "        res.yhat.loc[range(11,20)][1:].reset_index(drop=True) <=\n",
    "        res.yhat.loc[range(11,20)][:-1].reset_index(drop=True))\n",
    ")"
   ]
  },
  {
   "cell_type": "markdown",
   "metadata": {},
   "source": [
    "### Using the Results for Adverse Action"
   ]
  },
  {
   "cell_type": "code",
   "execution_count": 26,
   "metadata": {},
   "outputs": [
    {
     "data": {
      "text/plain": [
       "'0.80'"
      ]
     },
     "execution_count": 26,
     "metadata": {},
     "output_type": "execute_result"
    }
   ],
   "source": [
    "# TODO: conda doesn't have latest version of xgboost which can dump json\n",
    "import xgboost\n",
    "xgboost.__version__"
   ]
  },
  {
   "cell_type": "code",
   "execution_count": 27,
   "metadata": {},
   "outputs": [
    {
     "ename": "TypeError",
     "evalue": "dump_model() got an unexpected keyword argument 'dump_format'",
     "traceback": [
      "\u001b[1;31m---------------------------------------------------------------------------\u001b[0m",
      "\u001b[1;31mTypeError\u001b[0m                                 Traceback (most recent call last)",
      "\u001b[1;32m<ipython-input-27-42aca8e8a4b2>\u001b[0m in \u001b[0;36m<module>\u001b[1;34m\u001b[0m\n\u001b[1;32m----> 1\u001b[1;33m \u001b[0mbst4\u001b[0m\u001b[1;33m.\u001b[0m\u001b[0mdump_model\u001b[0m\u001b[1;33m(\u001b[0m\u001b[1;34m\"./mono_model.json\"\u001b[0m\u001b[1;33m,\u001b[0m \u001b[0mdump_format\u001b[0m\u001b[1;33m=\u001b[0m\u001b[1;34m'json'\u001b[0m\u001b[1;33m)\u001b[0m\u001b[1;33m\u001b[0m\u001b[1;33m\u001b[0m\u001b[0m\n\u001b[0m",
      "\u001b[1;31mTypeError\u001b[0m: dump_model() got an unexpected keyword argument 'dump_format'"
     ],
     "output_type": "error"
    }
   ],
   "source": [
    "bst4.dump_model(\"./mono_model.json\", dump_format='json')"
   ]
  }
 ],
 "metadata": {
  "kernelspec": {
   "display_name": "Python 3",
   "language": "python",
   "name": "python3"
  },
  "language_info": {
   "codemirror_mode": {
    "name": "ipython",
    "version": 3
   },
   "file_extension": ".py",
   "mimetype": "text/x-python",
   "name": "python",
   "nbconvert_exporter": "python",
   "pygments_lexer": "ipython3",
   "version": "3.7.2"
  }
 },
 "nbformat": 4,
 "nbformat_minor": 1
}
