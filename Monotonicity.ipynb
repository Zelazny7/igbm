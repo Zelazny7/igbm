{
 "cells": [
  {
   "cell_type": "markdown",
   "metadata": {},
   "source": [
    "### Adverse Actionable Machine Learning\n",
    "\n",
    "This notebook demonstrates how data can be processed for training with `xgboost` to enforce certain relationships between the independent variable and the target. "
   ]
  },
  {
   "cell_type": "code",
   "execution_count": 2,
   "metadata": {},
   "outputs": [],
   "source": [
    "import xgboost as xgb\n",
    "import numpy as np\n",
    "import matplotlib.pyplot as plt\n",
    "import pandas as pd\n",
    "import seaborn as sns"
   ]
  },
  {
   "cell_type": "markdown",
   "metadata": {},
   "source": [
    "### Dummy Data\n",
    "\n",
    "For this notebook we will be using a contrived variable that has a carefully engineered relationship with the target variable. The dummy data also consists of values we might encounter in the real world such as missing data and exception values."
   ]
  },
  {
   "cell_type": "code",
   "execution_count": 10,
   "metadata": {},
   "outputs": [],
   "source": [
    "# create a dummy dataset with the desired properties\n",
    "N = 10_000\n",
    "vals = [np.nan, -99, 999, *list(range(0, 20))]\n",
    "prob = [0.20, 0.10, 0.30, *np.repeat(0.4/20, 20)]\n",
    "x = np.random.choice(vals, N, p=prob)"
   ]
  },
  {
   "cell_type": "code",
   "execution_count": 15,
   "metadata": {},
   "outputs": [
    {
     "data": {
      "text/plain": [
       "-999.0    2011\n",
       "-99.0     1011\n",
       " 0.0       195\n",
       " 1.0       212\n",
       " 2.0       209\n",
       " 3.0       189\n",
       " 4.0       172\n",
       " 5.0       223\n",
       " 6.0       180\n",
       " 7.0       182\n",
       " 8.0       204\n",
       " 9.0       205\n",
       " 10.0      201\n",
       " 11.0      205\n",
       " 12.0      200\n",
       " 13.0      190\n",
       " 14.0      198\n",
       " 15.0      206\n",
       " 16.0      171\n",
       " 17.0      219\n",
       " 18.0      205\n",
       " 19.0      197\n",
       " 999.0    3015\n",
       "dtype: int64"
      ]
     },
     "execution_count": 15,
     "metadata": {},
     "output_type": "execute_result"
    }
   ],
   "source": [
    "pd.Series(x).fillna(-999).value_counts().sort_index()"
   ]
  },
  {
   "cell_type": "markdown",
   "metadata": {},
   "source": [
    "### Create Binary Target\n",
    "\n",
    "The dummy data will include a binary dependent variable with probability based on the value of the independent variable to create a relationship between the two."
   ]
  },
  {
   "cell_type": "code",
   "execution_count": 96,
   "metadata": {},
   "outputs": [],
   "source": [
    "# probabilities in same order as x-values\n",
    "yprob = [0.01, 0.50, 0.05,\n",
    "         *np.arange(0.10, 0.30, 0.02),\n",
    "         *np.arange(0.30, 0.20, -0.01)]\n",
    "\n",
    "# get the sorted indices for the next step\n",
    "i = np.argsort(vals)\n",
    "\n",
    "# find the indices of x  in the sorted values of x\n",
    "index = np.searchsorted(np.array(vals)[i], x, side='left')\n",
    "\n",
    "# use the indices to pair with the desired probability and randomly draw [0,1]\n",
    "y = np.random.binomial(1, np.array(yprob)[i[index]])"
   ]
  },
  {
   "cell_type": "code",
   "execution_count": 97,
   "metadata": {},
   "outputs": [
    {
     "data": {
      "image/png": "[encoded data removed]",
      "text/plain": [
       "<Figure size 432x288 with 1 Axes>"
      ]
     },
     "metadata": {
      "needs_background": "light"
     },
     "output_type": "display_data"
    }
   ],
   "source": [
    "df = pd.DataFrame({\"x\": x, \"y\": y})\n",
    "z = df.fillna(-999).groupby(\"x\").mean()\n",
    "plt = z.plot(kind=\"bar\")"
   ]
  },
  {
   "cell_type": "markdown",
   "metadata": {},
   "source": [
    "### Train Model\n",
    "\n",
    "The first model fit will not use any constraints at all."
   ]
  },
  {
   "cell_type": "code",
   "execution_count": 211,
   "metadata": {},
   "outputs": [],
   "source": [
    "dtrain = xgb.DMatrix(x.reshape(-1, 1), label=y.reshape(-1, 1))\n",
    "param = {\n",
    "    \"max_depth\": 5,\n",
    "    \"eta\":1,\n",
    "    \"silent\":1,\n",
    "    \"objective\":\"binary:logistic\"\n",
    "}"
   ]
  },
  {
   "cell_type": "code",
   "execution_count": 212,
   "metadata": {},
   "outputs": [],
   "source": [
    "bst = xgb.train(param, dtrain, num_boost_round=100)\n",
    "yhat = bst.predict(dtrain)\n",
    "preds = pd.DataFrame({'x': x, 'yhat': yhat})"
   ]
  },
  {
   "cell_type": "code",
   "execution_count": 213,
   "metadata": {},
   "outputs": [
    {
     "data": {
      "image/png": "[encoded data removed]",
      "text/plain": [
       "<Figure size 432x288 with 1 Axes>"
      ]
     },
     "metadata": {
      "needs_background": "light"
     },
     "output_type": "display_data"
    }
   ],
   "source": [
    "plt = preds.fillna(-999).groupby('x').mean().plot(kind='bar')"
   ]
  },
  {
   "cell_type": "markdown",
   "metadata": {},
   "source": [
    "### Enforce Constraints\n",
    "\n",
    "Regulations and repulational risk considerations demand that we treat certain levels of this variable in a special manner. Guidelines and experience recommend the following treatments:\n",
    "\n",
    "| Value | Treatment |\n",
    "|-------|-----------|\n",
    "| Missing | Least points |\n",
    "|-99 | Most Points |\n",
    "|999 | Less than 0 to 20  |\n",
    "|0 to 20 | Increasing Monotonicity |"
   ]
  },
  {
   "cell_type": "code",
   "execution_count": 109,
   "metadata": {},
   "outputs": [
    {
     "data": {
      "text/plain": [
       "<matplotlib.axes._subplots.AxesSubplot at 0x286c22ed4a8>"
      ]
     },
     "execution_count": 109,
     "metadata": {},
     "output_type": "execute_result"
    },
    {
     "data": {
      "image/png": "[encoded data removed]",
      "text/plain": [
       "<Figure size 432x288 with 1 Axes>"
      ]
     },
     "metadata": {
      "needs_background": "light"
     },
     "output_type": "display_data"
    }
   ],
   "source": [
    "x_new = x.copy()\n",
    "\n",
    "x_new[np.isnan(x)] = -2\n",
    "x_new[x == 999] = -1\n",
    "x_new[x == -99] = 22\n",
    "\n",
    "sns.scatterplot(x, x_new)"
   ]
  },
  {
   "cell_type": "code",
   "execution_count": 110,
   "metadata": {},
   "outputs": [],
   "source": [
    "dtrain = xgb.DMatrix(x_new.reshape(-1, 1), label=y.reshape(-1, 1))\n",
    "param = {\n",
    "    \"max_depth\": 5,\n",
    "    \"eta\": 1,\n",
    "    \"silent\": 1,\n",
    "    \"objective\":\"binary:logistic\",\n",
    "    \"monotone_constraints\": \"(1)\"    \n",
    "}"
   ]
  },
  {
   "cell_type": "code",
   "execution_count": 111,
   "metadata": {},
   "outputs": [],
   "source": [
    "bst2 = xgb.train(param, dtrain, num_boost_round=100)\n",
    "yhat = bst2.predict(dtrain)\n",
    "preds = pd.DataFrame({'x': x, 'yhat': yhat})"
   ]
  },
  {
   "cell_type": "code",
   "execution_count": 112,
   "metadata": {},
   "outputs": [
    {
     "data": {
      "image/png": "[encoded data removed]",
      "text/plain": [
       "<Figure size 432x288 with 1 Axes>"
      ]
     },
     "metadata": {
      "needs_background": "light"
     },
     "output_type": "display_data"
    }
   ],
   "source": [
    "plt = preds.fillna(-999).groupby('x').mean().plot(kind='bar')"
   ]
  },
  {
   "cell_type": "markdown",
   "metadata": {},
   "source": [
    "### More Complicated Constraints\n",
    "\n",
    "Regulations and repulational risk considerations demand that we treat certain levels of this variable in a special manner. Guidelines and experience recommend the following treatments:\n",
    "\n",
    "| Value | Treatment |\n",
    "|-------|-----------|\n",
    "| Missing | Least points |\n",
    "|-99 | Most Points |\n",
    "|999 | Less than 0 to 20  |\n",
    "|0 to 10 | Increasing Monotonicity |\n",
    "|11 to 20 | Decreasing Monotonicity |\n"
   ]
  },
  {
   "cell_type": "code",
   "execution_count": 154,
   "metadata": {},
   "outputs": [],
   "source": [
    "x_inc1 = x.copy()\n",
    "\n",
    "x_inc1[np.isnan(x)] = -3\n",
    "x_inc1[x == 999] = -2\n",
    "x_inc1[x == -99] = 12\n",
    "x_inc1[x_inc1 > 10] = -1\n",
    "\n",
    "x_inc2 = x_inc1.copy()\n",
    "x_inc2[x_inc1 == -1] = 11\n",
    "\n",
    "data = np.hstack([x_inc1.reshape(-1,1), x_inc2.reshape(-1,1)])\n",
    "dtrain = xgb.DMatrix(data, label=y.reshape(-1, 1))\n",
    "param = {\n",
    "    \"max_depth\": 5,\n",
    "    \"eta\": 1,\n",
    "    \"silent\": 1,\n",
    "    \"objective\":\"binary:logistic\",\n",
    "    \"monotone_constraints\": \"(1, 1)\"\n",
    "}"
   ]
  },
  {
   "cell_type": "code",
   "execution_count": 155,
   "metadata": {},
   "outputs": [],
   "source": [
    "bst3 = xgb.train(param, dtrain, num_boost_round=100)\n",
    "yhat = bst3.predict(dtrain)\n",
    "preds = pd.DataFrame({'x': x, 'yhat': yhat})"
   ]
  },
  {
   "cell_type": "code",
   "execution_count": 157,
   "metadata": {},
   "outputs": [
    {
     "data": {
      "image/png": "[encoded data removed]",
      "text/plain": [
       "<Figure size 432x288 with 1 Axes>"
      ]
     },
     "metadata": {
      "needs_background": "light"
     },
     "output_type": "display_data"
    }
   ],
   "source": [
    "plt = preds.fillna(-999).groupby('x').mean().plot(kind='bar')"
   ]
  },
  {
   "cell_type": "code",
   "execution_count": 147,
   "metadata": {},
   "outputs": [],
   "source": [
    "## repeat for decreasing mono\n",
    "x_dec1 = x.copy()\n",
    "\n",
    "x_dec1[np.isnan(x)] = 22\n",
    "x_dec1[x == 999] = 21\n",
    "x_dec1[x == -99] = -2\n",
    "x_dec1[(x_dec1 >= 0) & (x_dec1 <= 10)] = -1\n",
    "\n",
    "x_dec2 = x_dec1.copy()\n",
    "x_dec2[x_dec2 == -1] = 20"
   ]
  },
  {
   "cell_type": "code",
   "execution_count": 160,
   "metadata": {},
   "outputs": [],
   "source": [
    "data = np.hstack([\n",
    "    x_inc1.reshape(-1,1), x_inc2.reshape(-1,1),\n",
    "    x_dec1.reshape(-1,1), x_dec2.reshape(-1,1),\n",
    "])\n",
    "\n",
    "dtrain = xgb.DMatrix(data, label=y.reshape(-1, 1))\n",
    "param = {\n",
    "    \"max_depth\": 5,\n",
    "    \"eta\": 1,\n",
    "    \"silent\": 1,\n",
    "    \"objective\": \"binary:logistic\",\n",
    "    \"monotone_constraints\": \"(1, 1, -1, -1)\"\n",
    "}\n",
    "\n",
    "bst4 = xgb.train(param, dtrain, num_boost_round=100)\n",
    "yhat = bst4.predict(dtrain)\n",
    "preds = pd.DataFrame({'x': x, 'yhat': yhat})"
   ]
  },
  {
   "cell_type": "code",
   "execution_count": 161,
   "metadata": {},
   "outputs": [
    {
     "data": {
      "image/png": "[encoded data removed]",
      "text/plain": [
       "<Figure size 432x288 with 1 Axes>"
      ]
     },
     "metadata": {
      "needs_background": "light"
     },
     "output_type": "display_data"
    }
   ],
   "source": [
    "plt = preds.fillna(-999).groupby('x').mean().plot(kind='bar')"
   ]
  },
  {
   "cell_type": "markdown",
   "metadata": {},
   "source": [
    "Notes: Each interval must place *other* intervals prior and subsequent to it's range for monotonic constraints. \n",
    "\n",
    "Need to investigate whether ALL other intervals can be collapsed into one value to effect this behavior."
   ]
  },
  {
   "cell_type": "markdown",
   "metadata": {},
   "source": [
    "### Check Results\n",
    "\n",
    "Here we can programatically test whether the requested conditions are satisfied by checking the mean predictions for each value of `x`."
   ]
  },
  {
   "cell_type": "code",
   "execution_count": 202,
   "metadata": {},
   "outputs": [
    {
     "data": {
      "text/plain": [
       "Conditions(cond1=True, cond2=True, cond3=True, cond4=True, cond5=True)"
      ]
     },
     "execution_count": 202,
     "metadata": {},
     "output_type": "execute_result"
    }
   ],
   "source": [
    "from collections import namedtuple\n",
    "\n",
    "res = preds.fillna(-999).groupby('x').mean()\n",
    "\n",
    "conds = namedtuple(\"Conditions\", \" \".join([f\"cond{i}\" for i in range(1,6)]))\n",
    "\n",
    "# verify all conditions are met:\n",
    "conds(\n",
    "    np.all(res.yhat.loc[range(0,20)] > res.yhat.loc[999]),\n",
    "    np.all(res.yhat.loc[range(0,20)] < res.yhat.loc[-99]),\n",
    "    np.all(res.yhat >= res.yhat.loc[-999]),\n",
    "    np.all(\n",
    "        res.yhat.loc[range(0,10)][1:].reset_index(drop=True) >=\n",
    "        res.yhat.loc[range(0,10)][:-1].reset_index(drop=True)),\n",
    "    np.all(\n",
    "        res.yhat.loc[range(11,20)][1:].reset_index(drop=True) <=\n",
    "        res.yhat.loc[range(11,20)][:-1].reset_index(drop=True))\n",
    ")"
   ]
  },
  {
   "cell_type": "markdown",
   "metadata": {},
   "source": [
    "### Using the Results for Adverse Action"
   ]
  },
  {
   "cell_type": "code",
   "execution_count": 221,
   "metadata": {},
   "outputs": [
    {
     "data": {
      "text/plain": [
       "'0.80'"
      ]
     },
     "execution_count": 221,
     "metadata": {},
     "output_type": "execute_result"
    }
   ],
   "source": [
    "# TODO: conda doesn't have latest version of xgboost which can dump json\n",
    "import xgboost\n",
    "xgboost.__version__"
   ]
  },
  {
   "cell_type": "code",
   "execution_count": 220,
   "metadata": {},
   "outputs": [
    {
     "ename": "TypeError",
     "evalue": "dump_model() got an unexpected keyword argument 'dump_format'",
     "output_type": "error",
     "traceback": [
      "\u001b[1;31m---------------------------------------------------------------------------\u001b[0m",
      "\u001b[1;31mTypeError\u001b[0m                                 Traceback (most recent call last)",
      "\u001b[1;32m<ipython-input-220-42aca8e8a4b2>\u001b[0m in \u001b[0;36m<module>\u001b[1;34m\u001b[0m\n\u001b[1;32m----> 1\u001b[1;33m \u001b[0mbst4\u001b[0m\u001b[1;33m.\u001b[0m\u001b[0mdump_model\u001b[0m\u001b[1;33m(\u001b[0m\u001b[1;34m\"./mono_model.json\"\u001b[0m\u001b[1;33m,\u001b[0m \u001b[0mdump_format\u001b[0m\u001b[1;33m=\u001b[0m\u001b[1;34m'json'\u001b[0m\u001b[1;33m)\u001b[0m\u001b[1;33m\u001b[0m\u001b[1;33m\u001b[0m\u001b[0m\n\u001b[0m",
      "\u001b[1;31mTypeError\u001b[0m: dump_model() got an unexpected keyword argument 'dump_format'"
     ]
    }
   ],
   "source": [
    "bst4.dump_model(\"./mono_model.json\", dump_format='json')"
   ]
  }
 ],
 "metadata": {
  "kernelspec": {
   "display_name": "Python 3",
   "language": "python",
   "name": "python3"
  },
  "language_info": {
   "codemirror_mode": {
    "name": "ipython",
    "version": 3
   },
   "file_extension": ".py",
   "mimetype": "text/x-python",
   "name": "python",
   "nbconvert_exporter": "python",
   "pygments_lexer": "ipython3",
   "version": "3.7.2"
  }
 },
 "nbformat": 4,
 "nbformat_minor": 1
}
